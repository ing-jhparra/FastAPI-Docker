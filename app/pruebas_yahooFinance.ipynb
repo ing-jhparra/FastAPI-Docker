{
 "cells": [
  {
   "cell_type": "code",
   "execution_count": null,
   "metadata": {},
   "outputs": [],
   "source": [
    "import yfinance as yf\n",
    "import pandas as pd\n",
    "import numpy as np\n",
    "from datetime import datetime"
   ]
  },
  {
   "cell_type": "code",
   "execution_count": null,
   "metadata": {},
   "outputs": [],
   "source": [
    "#tickers = ['TSLA', 'NFLX', 'META', 'AMZN', 'GOOG', 'AAPL', 'SONY', 'EA', 'SPOT', 'ZM', 'UBER','AMZN','MELI','BABA','NVDA','PYPL','AMD','INTC','CSCO','IBM','ORCL','ACN']\n",
    "tickers = ['TSLA']\n"
   ]
  },
  {
   "cell_type": "code",
   "execution_count": null,
   "metadata": {},
   "outputs": [],
   "source": [
    "tsla = yf.Ticker(tickers[0])\n",
    "tsla.info"
   ]
  },
  {
   "cell_type": "code",
   "execution_count": null,
   "metadata": {},
   "outputs": [],
   "source": [
    "coleccion = dict(country=list(), industry=list(),sector=list(),nombre=list(),edad=list(),title=list(),tax_rate=list(),int_expense=list(),int_income=list(),normalized_in=list(),total_ex=list())\n",
    "df =  pd.DataFrame(tsla.info)\n",
    "#print(df['country'][0] + '---' + df['industry'][0] + '---' + df['sector'][0] + '---' + df['companyOfficers'][0]['name'] + '---' + df['companyOfficers'][0]['title'])\n",
    "coleccion['country'].append(df['country'][0])\n",
    "coleccion['industry'].append(df['industry'][0])\n",
    "coleccion['sector'].append(df['sector'][0])\n",
    "coleccion['nombre'].append(df['companyOfficers'][0]['name'])\n",
    "coleccion['edad'].append(df['companyOfficers'][0]['age'])\n",
    "coleccion['title'].append(df['companyOfficers'][0]['title'])\n",
    "print(coleccion)\n",
    "\n",
    "\n"
   ]
  },
  {
   "cell_type": "code",
   "execution_count": null,
   "metadata": {},
   "outputs": [],
   "source": [
    "tsla_reporte =tsla.financials\n",
    "tsla_reporte['2023-12-31']\n",
    "#columna = max(list(tsla_reporte.columns))\n",
    "#columna"
   ]
  },
  {
   "cell_type": "code",
   "execution_count": null,
   "metadata": {},
   "outputs": [],
   "source": [
    "coleccion['tax_rate'].append(tsla_reporte['2023-12-31']['Tax Rate For Calcs'])\n",
    "coleccion['int_expense'].append(tsla_reporte['2023-12-31']['Interest Expense'])\n",
    "coleccion['int_income'].append(tsla_reporte['2023-12-31']['Interest Income'])\n",
    "coleccion['normalized_in'].append(tsla_reporte['2023-12-31']['Normalized Income'])\n",
    "coleccion['total_ex'].append(tsla_reporte['2023-12-31']['Total Expenses'])\n",
    "print(coleccion)\n"
   ]
  },
  {
   "cell_type": "code",
   "execution_count": null,
   "metadata": {},
   "outputs": [],
   "source": [
    "industrias = ['AMZN','GOOG', 'AAPL', 'SONY', 'EA', 'SPOT', 'ZM', 'UBER','AMZN','MELI','BABA','NVDA','PYPL','AMD','INTC','CSCO','IBM','ORCL','ACN']\n",
    "for i in range(len(industrias)):\n",
    "    industria = yf.Ticker(industrias[i])\n",
    "    financiero = industria.financials\n",
    "    df =  pd.DataFrame(financiero)\n",
    "    try:\n",
    "        int_exp = df['2023-12-31']['Interest Expense'] \n",
    "    except  KeyError:\n",
    "        int_exp = 0\n",
    "    print(int_exp)\n",
    "\n"
   ]
  },
  {
   "cell_type": "code",
   "execution_count": null,
   "metadata": {},
   "outputs": [],
   "source": [
    "import requests\n",
    "from pprint import pprint\n",
    "import pymongo"
   ]
  },
  {
   "cell_type": "code",
   "execution_count": null,
   "metadata": {},
   "outputs": [],
   "source": [
    "cliente = pymongo.MongoClient(\"mongodb://localhost:27017/\")\n",
    "bd = cliente['integrador']"
   ]
  },
  {
   "cell_type": "code",
   "execution_count": 13,
   "metadata": {},
   "outputs": [
    {
     "ename": "TypeError",
     "evalue": "the JSON object must be str, bytes or bytearray, not list",
     "output_type": "error",
     "traceback": [
      "\u001b[1;31m---------------------------------------------------------------------------\u001b[0m",
      "\u001b[1;31mTypeError\u001b[0m                                 Traceback (most recent call last)",
      "Cell \u001b[1;32mIn[13], line 35\u001b[0m\n\u001b[0;32m     28\u001b[0m     diccionario \u001b[38;5;241m=\u001b[39m \u001b[38;5;28mdict\u001b[39m(ticker \u001b[38;5;241m=\u001b[39m industrias[indice], country \u001b[38;5;241m=\u001b[39m df[\u001b[38;5;124m'\u001b[39m\u001b[38;5;124mcountry\u001b[39m\u001b[38;5;124m'\u001b[39m][indice], industry \u001b[38;5;241m=\u001b[39m df[\u001b[38;5;124m'\u001b[39m\u001b[38;5;124mindustry\u001b[39m\u001b[38;5;124m'\u001b[39m][indice], sector \u001b[38;5;241m=\u001b[39m df[\u001b[38;5;124m'\u001b[39m\u001b[38;5;124msector\u001b[39m\u001b[38;5;124m'\u001b[39m][indice], \n\u001b[0;32m     29\u001b[0m                        name \u001b[38;5;241m=\u001b[39m df[\u001b[38;5;124m'\u001b[39m\u001b[38;5;124mcompanyOfficers\u001b[39m\u001b[38;5;124m'\u001b[39m][indice][\u001b[38;5;124m'\u001b[39m\u001b[38;5;124mname\u001b[39m\u001b[38;5;124m'\u001b[39m], age \u001b[38;5;241m=\u001b[39m df[\u001b[38;5;124m'\u001b[39m\u001b[38;5;124mcompanyOfficers\u001b[39m\u001b[38;5;124m'\u001b[39m][indice][\u001b[38;5;124m'\u001b[39m\u001b[38;5;124mage\u001b[39m\u001b[38;5;124m'\u001b[39m], title \u001b[38;5;241m=\u001b[39m df[\u001b[38;5;124m'\u001b[39m\u001b[38;5;124mcompanyOfficers\u001b[39m\u001b[38;5;124m'\u001b[39m][indice][\u001b[38;5;124m'\u001b[39m\u001b[38;5;124mtitle\u001b[39m\u001b[38;5;124m'\u001b[39m], \n\u001b[0;32m     30\u001b[0m                        tax_rate \u001b[38;5;241m=\u001b[39m reporte[fecha][\u001b[38;5;124m'\u001b[39m\u001b[38;5;124mTax Rate For Calcs\u001b[39m\u001b[38;5;124m'\u001b[39m], interest_expense \u001b[38;5;241m=\u001b[39m reporte[fecha][\u001b[38;5;124m'\u001b[39m\u001b[38;5;124mInterest Expense\u001b[39m\u001b[38;5;124m'\u001b[39m], \n\u001b[0;32m     31\u001b[0m                        interest_income \u001b[38;5;241m=\u001b[39m reporte[fecha][\u001b[38;5;124m'\u001b[39m\u001b[38;5;124mInterest Income\u001b[39m\u001b[38;5;124m'\u001b[39m], normalized_income \u001b[38;5;241m=\u001b[39m reporte[fecha][\u001b[38;5;124m'\u001b[39m\u001b[38;5;124mNormalized Income\u001b[39m\u001b[38;5;124m'\u001b[39m], \n\u001b[0;32m     32\u001b[0m                        total_ex \u001b[38;5;241m=\u001b[39m reporte[fecha][\u001b[38;5;124m'\u001b[39m\u001b[38;5;124mTotal Expenses\u001b[39m\u001b[38;5;124m'\u001b[39m])\n\u001b[0;32m     33\u001b[0m     colecciones\u001b[38;5;241m.\u001b[39mappend(diccionario)\n\u001b[1;32m---> 35\u001b[0m \u001b[38;5;28mprint\u001b[39m(\u001b[43mjson\u001b[49m\u001b[38;5;241;43m.\u001b[39;49m\u001b[43mloads\u001b[49m\u001b[43m(\u001b[49m\u001b[43mcolecciones\u001b[49m\u001b[43m)\u001b[49m)\n",
      "File \u001b[1;32mC:\\Program Files\\WindowsApps\\PythonSoftwareFoundation.Python.3.12_3.12.1008.0_x64__qbz5n2kfra8p0\\Lib\\json\\__init__.py:339\u001b[0m, in \u001b[0;36mloads\u001b[1;34m(s, cls, object_hook, parse_float, parse_int, parse_constant, object_pairs_hook, **kw)\u001b[0m\n\u001b[0;32m    337\u001b[0m \u001b[38;5;28;01melse\u001b[39;00m:\n\u001b[0;32m    338\u001b[0m     \u001b[38;5;28;01mif\u001b[39;00m \u001b[38;5;129;01mnot\u001b[39;00m \u001b[38;5;28misinstance\u001b[39m(s, (\u001b[38;5;28mbytes\u001b[39m, \u001b[38;5;28mbytearray\u001b[39m)):\n\u001b[1;32m--> 339\u001b[0m         \u001b[38;5;28;01mraise\u001b[39;00m \u001b[38;5;167;01mTypeError\u001b[39;00m(\u001b[38;5;124mf\u001b[39m\u001b[38;5;124m'\u001b[39m\u001b[38;5;124mthe JSON object must be str, bytes or bytearray, \u001b[39m\u001b[38;5;124m'\u001b[39m\n\u001b[0;32m    340\u001b[0m                         \u001b[38;5;124mf\u001b[39m\u001b[38;5;124m'\u001b[39m\u001b[38;5;124mnot \u001b[39m\u001b[38;5;132;01m{\u001b[39;00ms\u001b[38;5;241m.\u001b[39m\u001b[38;5;18m__class__\u001b[39m\u001b[38;5;241m.\u001b[39m\u001b[38;5;18m__name__\u001b[39m\u001b[38;5;132;01m}\u001b[39;00m\u001b[38;5;124m'\u001b[39m)\n\u001b[0;32m    341\u001b[0m     s \u001b[38;5;241m=\u001b[39m s\u001b[38;5;241m.\u001b[39mdecode(detect_encoding(s), \u001b[38;5;124m'\u001b[39m\u001b[38;5;124msurrogatepass\u001b[39m\u001b[38;5;124m'\u001b[39m)\n\u001b[0;32m    343\u001b[0m \u001b[38;5;28;01mif\u001b[39;00m (\u001b[38;5;28mcls\u001b[39m \u001b[38;5;129;01mis\u001b[39;00m \u001b[38;5;28;01mNone\u001b[39;00m \u001b[38;5;129;01mand\u001b[39;00m object_hook \u001b[38;5;129;01mis\u001b[39;00m \u001b[38;5;28;01mNone\u001b[39;00m \u001b[38;5;129;01mand\u001b[39;00m\n\u001b[0;32m    344\u001b[0m         parse_int \u001b[38;5;129;01mis\u001b[39;00m \u001b[38;5;28;01mNone\u001b[39;00m \u001b[38;5;129;01mand\u001b[39;00m parse_float \u001b[38;5;129;01mis\u001b[39;00m \u001b[38;5;28;01mNone\u001b[39;00m \u001b[38;5;129;01mand\u001b[39;00m\n\u001b[0;32m    345\u001b[0m         parse_constant \u001b[38;5;129;01mis\u001b[39;00m \u001b[38;5;28;01mNone\u001b[39;00m \u001b[38;5;129;01mand\u001b[39;00m object_pairs_hook \u001b[38;5;129;01mis\u001b[39;00m \u001b[38;5;28;01mNone\u001b[39;00m \u001b[38;5;129;01mand\u001b[39;00m \u001b[38;5;129;01mnot\u001b[39;00m kw):\n",
      "\u001b[1;31mTypeError\u001b[0m: the JSON object must be str, bytes or bytearray, not list"
     ]
    }
   ],
   "source": [
    "import yfinance as yf\n",
    "import pandas as pd\n",
    "import pymongo\n",
    "from fastapi import FastAPI\n",
    "from fastapi.responses import HTMLResponse\n",
    "import json\n",
    "\n",
    "app = FastAPI()\n",
    "app.title = \"Mi primera chamba\"\n",
    "app.version = \"16-04-2024\"\n",
    "\n",
    "# Configuracion del cliente y base de datos\n",
    "cliente = pymongo.MongoClient(\"mongodb://localhost:27017/\")\n",
    "bd = cliente['integrador']\n",
    "\n",
    "# Deficnicion de lsitas\n",
    "colecciones = list() \n",
    "industrias = ['TSLA', 'NFLX', 'META', 'AMZN', 'GOOG']\n",
    "\n",
    "# Obtencion de informacion utilizando yf.Ticker\n",
    "for indice in range(len(industrias)):\n",
    "    industria = yf.Ticker(industrias[indice])\n",
    "    contenido = industria.info\n",
    "    reporte = industria.financials\n",
    "    df =  pd.DataFrame(contenido)\n",
    "    fecha = max(list(reporte.columns))\n",
    " \n",
    "    diccionario = dict(ticker = industrias[indice], country = df['country'][indice], industry = df['industry'][indice], sector = df['sector'][indice], \n",
    "                       name = df['companyOfficers'][indice]['name'], age = df['companyOfficers'][indice]['age'], title = df['companyOfficers'][indice]['title'], \n",
    "                       tax_rate = reporte[fecha]['Tax Rate For Calcs'], interest_expense = reporte[fecha]['Interest Expense'], \n",
    "                       interest_income = reporte[fecha]['Interest Income'], normalized_income = reporte[fecha]['Normalized Income'], \n",
    "                       total_ex = reporte[fecha]['Total Expenses'])\n",
    "    colecciones.append(diccionario)\n",
    "\n",
    "# Obtener el JSON como cadena\n",
    "json_string = json.dumps(colecciones)\n",
    "\n",
    "# Eliminar las comillas simples al principio y al final\n",
    "json_string_sin_comillas = json_string.replace(\"'\", \"\")\n",
    "\n",
    "# Convertir la cadena de nuevo a un objeto JSON\n",
    "data_sin_comillas = json.loads(json_string_sin_comillas)\n",
    "\n",
    "data_sin_comillas"
   ]
  },
  {
   "cell_type": "code",
   "execution_count": null,
   "metadata": {},
   "outputs": [],
   "source": []
  }
 ],
 "metadata": {
  "kernelspec": {
   "display_name": "yahoo-finance",
   "language": "python",
   "name": "python3"
  },
  "language_info": {
   "codemirror_mode": {
    "name": "ipython",
    "version": 3
   },
   "file_extension": ".py",
   "mimetype": "text/x-python",
   "name": "python",
   "nbconvert_exporter": "python",
   "pygments_lexer": "ipython3",
   "version": "3.12.3"
  }
 },
 "nbformat": 4,
 "nbformat_minor": 2
}
